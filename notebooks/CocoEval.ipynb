{
 "cells": [
  {
   "cell_type": "markdown",
   "id": "45dfd06c",
   "metadata": {},
   "source": [
    "## Evaluation"
   ]
  },
  {
   "cell_type": "markdown",
   "id": "50e47c62",
   "metadata": {},
   "source": [
    "Evaluation using COCO tools [https://github.com/cocodataset/cocoapi/tree/master/PythonAPI]. \n",
    "\n",
    "### Installation\n",
    "\n",
    "Clone the repository:\n",
    "```bash\n",
    "$ git clone git@github.com:cocodataset/cocoapi.git\n",
    "```\n",
    "\n",
    "Because the API is written in Python 2 we need to convert the code to Python3 see [https://stackoverflow.com/questions/49311195/how-to-install-coco-pythonapi-in-python3]:\n",
    "```bash\n",
    "$ cd cocoapi/\n",
    "$ pip3 install 2to3\n",
    "$ 2to3 . -w .\n",
    "```\n",
    "I also replaced python with python3 in the MakeFile\n",
    "```bash\n",
    "$ cd PythonAPI/\n",
    "$ python3 \n",
    "$ make\n",
    "```"
   ]
  },
  {
   "cell_type": "markdown",
   "id": "9c51acba",
   "metadata": {},
   "source": [
    "### Test"
   ]
  },
  {
   "cell_type": "code",
   "execution_count": 1,
   "id": "fc426873",
   "metadata": {},
   "outputs": [],
   "source": [
    "from pycocotools.coco import COCO\n",
    "from pycocotools.cocoeval import COCOeval\n",
    "from contextlib import redirect_stdout"
   ]
  },
  {
   "cell_type": "markdown",
   "id": "f3c0f98c",
   "metadata": {},
   "source": [
    "When you write json files by hand, check if the format is correct, for example by copy pasting the file to this validator: https://jsonformatter.curiousconcept.com/#\n",
    "or use an editor with json support (e.g. atom) which marks the errors while you write. I fixed the jsons and put them in data directory:"
   ]
  },
  {
   "cell_type": "code",
   "execution_count": 2,
   "id": "bdf63f4f",
   "metadata": {},
   "outputs": [],
   "source": [
    "annType = 'bbox'\n",
    "annFile = '../data/truths.json'\n",
    "resFile = '../data/detections.json'"
   ]
  },
  {
   "cell_type": "markdown",
   "id": "4aaf6bf6",
   "metadata": {},
   "source": [
    "Test if they are readable by COCO:"
   ]
  },
  {
   "cell_type": "code",
   "execution_count": 3,
   "id": "887a0c32",
   "metadata": {},
   "outputs": [
    {
     "name": "stdout",
     "output_type": "stream",
     "text": [
      "loading annotations into memory...\n",
      "Done (t=0.00s)\n",
      "creating index...\n",
      "index created!\n"
     ]
    }
   ],
   "source": [
    "cocoGt=COCO(annFile)"
   ]
  },
  {
   "cell_type": "code",
   "execution_count": 4,
   "id": "4b428592",
   "metadata": {},
   "outputs": [
    {
     "name": "stdout",
     "output_type": "stream",
     "text": [
      "Loading and preparing results...\n",
      "DONE (t=0.00s)\n",
      "creating index...\n",
      "index created!\n"
     ]
    }
   ],
   "source": [
    "cocoDt = cocoGt.loadRes(resFile)"
   ]
  },
  {
   "cell_type": "code",
   "execution_count": 5,
   "id": "db4d8cab",
   "metadata": {},
   "outputs": [
    {
     "name": "stdout",
     "output_type": "stream",
     "text": [
      "Running per image evaluation...\n",
      "Evaluate annotation type *bbox*\n",
      "DONE (t=0.00s).\n"
     ]
    }
   ],
   "source": [
    "imgIds = sorted(cocoGt.getImgIds())\n",
    "cocoEval = COCOeval(cocoGt,cocoDt,annType)\n",
    "cocoEval.params.imgIds = imgIds\n",
    "cocoEval.evaluate()"
   ]
  },
  {
   "cell_type": "code",
   "execution_count": 6,
   "id": "814b72f8",
   "metadata": {},
   "outputs": [
    {
     "name": "stdout",
     "output_type": "stream",
     "text": [
      "Accumulating evaluation results...\n",
      "DONE (t=0.00s).\n",
      " Average Precision  (AP) @[ IoU=0.50:0.95 | area=   all | maxDets=100 ] = 1.000\n",
      " Average Precision  (AP) @[ IoU=0.50      | area=   all | maxDets=100 ] = 1.000\n",
      " Average Precision  (AP) @[ IoU=0.75      | area=   all | maxDets=100 ] = 1.000\n",
      " Average Precision  (AP) @[ IoU=0.50:0.95 | area= small | maxDets=100 ] = 1.000\n",
      " Average Precision  (AP) @[ IoU=0.50:0.95 | area=medium | maxDets=100 ] = -1.000\n",
      " Average Precision  (AP) @[ IoU=0.50:0.95 | area= large | maxDets=100 ] = -1.000\n",
      " Average Recall     (AR) @[ IoU=0.50:0.95 | area=   all | maxDets=  1 ] = 0.250\n",
      " Average Recall     (AR) @[ IoU=0.50:0.95 | area=   all | maxDets= 10 ] = 1.000\n",
      " Average Recall     (AR) @[ IoU=0.50:0.95 | area=   all | maxDets=100 ] = 1.000\n",
      " Average Recall     (AR) @[ IoU=0.50:0.95 | area= small | maxDets=100 ] = 1.000\n",
      " Average Recall     (AR) @[ IoU=0.50:0.95 | area=medium | maxDets=100 ] = -1.000\n",
      " Average Recall     (AR) @[ IoU=0.50:0.95 | area= large | maxDets=100 ] = -1.000\n"
     ]
    }
   ],
   "source": [
    "cocoEval.accumulate()\n",
    "cocoEval.summarize()"
   ]
  },
  {
   "cell_type": "markdown",
   "id": "4d4ca2bf",
   "metadata": {},
   "source": [
    "Works. Let's write the results to the `..data/results.txt` file:"
   ]
  },
  {
   "cell_type": "code",
   "execution_count": 8,
   "id": "68043b93",
   "metadata": {},
   "outputs": [],
   "source": [
    "with open('../data/results.txt', 'w') as f:\n",
    "    with redirect_stdout(f):\n",
    "        cocoEval.summarize()"
   ]
  },
  {
   "cell_type": "code",
   "execution_count": null,
   "id": "303f8ba8",
   "metadata": {},
   "outputs": [],
   "source": []
  }
 ],
 "metadata": {
  "kernelspec": {
   "display_name": "Python 3",
   "language": "python",
   "name": "python3"
  },
  "language_info": {
   "codemirror_mode": {
    "name": "ipython",
    "version": 3
   },
   "file_extension": ".py",
   "mimetype": "text/x-python",
   "name": "python",
   "nbconvert_exporter": "python",
   "pygments_lexer": "ipython3",
   "version": "3.8.5"
  }
 },
 "nbformat": 4,
 "nbformat_minor": 5
}
